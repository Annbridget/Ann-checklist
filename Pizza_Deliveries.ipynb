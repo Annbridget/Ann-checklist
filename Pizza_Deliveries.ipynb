{
  "nbformat": 4,
  "nbformat_minor": 0,
  "metadata": {
    "colab": {
      "provenance": [],
      "authorship_tag": "ABX9TyOTyRhIja71mJO5yTt1pYHS",
      "include_colab_link": true
    },
    "kernelspec": {
      "name": "python3",
      "display_name": "Python 3"
    },
    "language_info": {
      "name": "python"
    }
  },
  "cells": [
    {
      "cell_type": "markdown",
      "metadata": {
        "id": "view-in-github",
        "colab_type": "text"
      },
      "source": [
        "<a href=\"https://colab.research.google.com/github/Annbridget/Ann-checklist/blob/main/Pizza_Deliveries.ipynb\" target=\"_parent\"><img src=\"https://colab.research.google.com/assets/colab-badge.svg\" alt=\"Open In Colab\"/></a>"
      ]
    },
    {
      "cell_type": "code",
      "execution_count": null,
      "metadata": {
        "id": "IXLs2AFOVSUg",
        "colab": {
          "base_uri": "https://localhost:8080/"
        },
        "outputId": "b0b33e8b-a194-468f-c471-c8ed91259fb5"
      },
      "outputs": [
        {
          "output_type": "stream",
          "name": "stdout",
          "text": [
            "'Welcome to Python Pizza Deliveries\n",
            "What size pizza do you want? S, M, or L s\n",
            "Do you want extra pepperoni? Y or N y\n",
            "Do you want extra cheese? Y or N y\n",
            "Your final bill is: $18.\n"
          ]
        }
      ],
      "source": [
        "#Welcome message.\n",
        "print(\"'Welcome to Python Pizza Deliveries\")\n",
        "#Size of the pizza\n",
        "size = input(\"What size pizza do you want? S, M, or L \").upper()\n",
        "#Prizes\n",
        "if size == \"S\":\n",
        "  bill = 15\n",
        "elif size == \"M\":\n",
        "  bill = 20\n",
        "elif size == \"L\":\n",
        "  bill = 25\n",
        "else:\n",
        "  print(\"Invalid size selected\")\n",
        "  bill = 0\n",
        "\n",
        "#Add pepperoni\n",
        "add_pepperoni = input(\"Do you want extra pepperoni? Y or N \").upper()\n",
        "#Prizes\n",
        "if add_pepperoni == \"Y\":\n",
        "  if size == \"S\":\n",
        "    bill += 2\n",
        "  else:\n",
        "    bill += 3\n",
        "#Extra cheese?\n",
        "extra_cheese = input(\"Do you want extra cheese? Y or N \").upper()\n",
        "#Prizes\n",
        "if extra_cheese == \"Y\":\n",
        "  bill += 1\n",
        "#Final bill\n",
        "print(f\"Your final bill is: ${bill}.\")\n",
        "\n"
      ]
    },
    {
      "cell_type": "code",
      "source": [],
      "metadata": {
        "id": "4C97N2v9epyx"
      },
      "execution_count": null,
      "outputs": []
    }
  ]
}