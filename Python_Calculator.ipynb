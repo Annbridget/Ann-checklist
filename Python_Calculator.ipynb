{
  "nbformat": 4,
  "nbformat_minor": 0,
  "metadata": {
    "colab": {
      "provenance": [],
      "authorship_tag": "ABX9TyOJ6lNl7n3uI901YiGhpqEg",
      "include_colab_link": true
    },
    "kernelspec": {
      "name": "python3",
      "display_name": "Python 3"
    },
    "language_info": {
      "name": "python"
    }
  },
  "cells": [
    {
      "cell_type": "markdown",
      "metadata": {
        "id": "view-in-github",
        "colab_type": "text"
      },
      "source": [
        "<a href=\"https://colab.research.google.com/github/Annbridget/Ann-checklist/blob/main/Python_Calculator.ipynb\" target=\"_parent\"><img src=\"https://colab.research.google.com/assets/colab-badge.svg\" alt=\"Open In Colab\"/></a>"
      ]
    },
    {
      "cell_type": "code",
      "execution_count": null,
      "metadata": {
        "colab": {
          "base_uri": "https://localhost:8080/"
        },
        "id": "JVh5UT1ep3yV",
        "outputId": "8b56afc9-6537-4e3c-bd9f-7e585b31608c"
      },
      "outputs": [
        {
          "output_type": "stream",
          "name": "stdout",
          "text": [
            "30\n"
          ]
        }
      ],
      "source": [
        "#Create four basic mathematical functions: 'add', 'subtract', 'multiply', and 'divide' that take in two numbers and return the result of the operation.\n",
        "#Add\n",
        "numbers =lambda x,y:x+y\n",
        "print(numbers(10,20))\n"
      ]
    },
    {
      "cell_type": "code",
      "source": [
        "#Subtraction\n",
        "numbers =lambda x,y:x-y\n",
        "print(numbers(10,20))"
      ],
      "metadata": {
        "colab": {
          "base_uri": "https://localhost:8080/"
        },
        "id": "6zzSpQXErww-",
        "outputId": "4cb20c0c-7d40-4810-e1de-7d3c159d2fbf"
      },
      "execution_count": null,
      "outputs": [
        {
          "output_type": "stream",
          "name": "stdout",
          "text": [
            "-10\n"
          ]
        }
      ]
    },
    {
      "cell_type": "code",
      "source": [
        "#multiplication\n",
        "numbers =lambda x,y:x*y\n",
        "print(numbers(10,20))"
      ],
      "metadata": {
        "colab": {
          "base_uri": "https://localhost:8080/"
        },
        "id": "qc9-Zc0HsN0P",
        "outputId": "9e3aa462-d528-4dd0-c2b3-a5ff74ee0e00"
      },
      "execution_count": null,
      "outputs": [
        {
          "output_type": "stream",
          "name": "stdout",
          "text": [
            "200\n"
          ]
        }
      ]
    },
    {
      "cell_type": "code",
      "source": [
        "#Divide\n",
        "numbers =lambda x,y:x/y\n",
        "print(numbers(10,20))"
      ],
      "metadata": {
        "colab": {
          "base_uri": "https://localhost:8080/"
        },
        "id": "SrUiKtjMsNyx",
        "outputId": "2f649412-8715-4fbf-f7f9-e58fe5ba5a38"
      },
      "execution_count": null,
      "outputs": [
        {
          "output_type": "stream",
          "name": "stdout",
          "text": [
            "0.5\n"
          ]
        }
      ]
    },
    {
      "cell_type": "markdown",
      "source": [],
      "metadata": {
        "id": "bKLx84eQsNaI"
      }
    },
    {
      "cell_type": "code",
      "source": [
        "#Create a dictionary 'operations' that assigns the functions to their corresponding operation symbols.\n",
        "operations = {\n",
        "    '+': lambda x, y: x + y,\n",
        "    '-': lambda x, y: x - y,\n",
        "    '*': lambda x, y: x * y,\n",
        "    '/': lambda x, y: x / y\n",
        "}"
      ],
      "metadata": {
        "id": "WIXW6h7msgF5"
      },
      "execution_count": null,
      "outputs": []
    },
    {
      "cell_type": "code",
      "source": [
        "#Create a function 'calculator' that prompts the user to input the first number.\n",
        "def calculator():\n",
        "    num1 = float(input(\"Enter the first number: \"))\n",
        "    for symbol in operations:\n",
        "        print(symbol)\n",
        "\n",
        "eg = operations['+'](10,20)\n",
        "print(eg)\n"
      ],
      "metadata": {
        "colab": {
          "base_uri": "https://localhost:8080/"
        },
        "id": "XV8Th2p3sgEz",
        "outputId": "ce16f361-61b6-4138-8cee-7b357d9aea1e"
      },
      "execution_count": null,
      "outputs": [
        {
          "output_type": "stream",
          "name": "stdout",
          "text": [
            "30\n"
          ]
        }
      ]
    },
    {
      "cell_type": "code",
      "source": [
        "#Use a for loop to print the available operation symbols.\n",
        "operations = {\n",
        "    '+': lambda x, y: x + y,\n",
        "    '-': lambda x, y: x - y,\n",
        "    '*': lambda x, y: x * y,\n",
        "    '/': lambda x, y: x / y\n",
        "}\n",
        "for symbol in operations:\n",
        "    print(symbol)\n",
        "\n",
        "\n"
      ],
      "metadata": {
        "colab": {
          "base_uri": "https://localhost:8080/"
        },
        "id": "0HbI5xZrtS4O",
        "outputId": "8222f209-920c-4cdb-8a49-f952e5d807c0"
      },
      "execution_count": null,
      "outputs": [
        {
          "output_type": "stream",
          "name": "stdout",
          "text": [
            "+\n",
            "-\n",
            "*\n",
            "/\n"
          ]
        }
      ]
    },
    {
      "cell_type": "code",
      "source": [
        "\n",
        "#Create a while loop that will continue to run until the user chooses to end the current calculation.\n",
        "# the user to input the second number.\n",
        "#Use the dictionary to retrieve the function that corresponds to the selected operation symbol and store it in a variable 'calculation_function'\n",
        "#Perform the calculation by calling the 'calculation_function' on the two input numbers and store the result in a variable 'answer'.\n",
        "# the equation and the result of the calculation.\n",
        "#Ask the user if they would like to continue using the result as the first number for further calculations.\n",
        "# If the user chooses to continue, update the 'num1' variable to the value of 'answer'.\n",
        "#If the user chooses to start a new calculation, set the 'should_continue' variable to false and call the 'calculator' function to start a new calculation\n",
        "while True:\n",
        "    num1 = float(input(\"Enter the first number: \"))\n",
        "    for symbol in operations:\n",
        "        print(symbol)\n",
        "\n",
        "    num2 = float(input(\"Enter the second number: \"))\n",
        "    operation_symbol = input(\"Pick an operation: \")\n",
        "    calculation_function = operations[operation_symbol]\n",
        "    answer = calculation_function(num1, num2)\n",
        "    print(f\"{num1} {operation_symbol} {num2} = {answer}\")\n",
        "\n",
        "    choice = input(\"Do you want to continue? (y/n): \")\n",
        "    if choice == 'n':\n",
        "        should_continue = False\n",
        "        calculator()\n",
        "    else:\n",
        "        num1 = answer\n",
        "        should_continue = True\n",
        "\n",
        "\n",
        "    choice = input(\"Do you want to continue? (y/n): \")\n",
        "    if choice == 'n':\n",
        "        break"
      ],
      "metadata": {
        "colab": {
          "base_uri": "https://localhost:8080/"
        },
        "id": "iROpVCvcxhMd",
        "outputId": "e17f12b4-385f-497d-a48e-1258679c7205"
      },
      "execution_count": null,
      "outputs": [
        {
          "name": "stdout",
          "output_type": "stream",
          "text": [
            "Enter the first number: 30\n",
            "+\n",
            "-\n",
            "*\n",
            "/\n",
            "Enter the second number: 20\n",
            "Pick an operation: +\n",
            "30.0 + 20.0 = 50.0\n",
            "Do you want to continue? (y/n): True\n",
            "Do you want to continue? (y/n): y\n",
            "Enter the first number: 41\n",
            "+\n",
            "-\n",
            "*\n",
            "/\n",
            "Enter the second number: 56\n",
            "Pick an operation: -\n",
            "41.0 - 56.0 = -15.0\n",
            "Do you want to continue? (y/n): n\n",
            "Enter the first number: 20\n",
            "+\n",
            "-\n",
            "*\n",
            "/\n",
            "Do you want to continue? (y/n): n\n"
          ]
        }
      ]
    },
    {
      "cell_type": "code",
      "source": [],
      "metadata": {
        "id": "zHJGJ3Ux3yEM"
      },
      "execution_count": null,
      "outputs": []
    }
  ]
}