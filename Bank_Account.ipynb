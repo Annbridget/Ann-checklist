{
  "nbformat": 4,
  "nbformat_minor": 0,
  "metadata": {
    "colab": {
      "provenance": [],
      "authorship_tag": "ABX9TyN1QekF1wEGbpl9Q6Uf2x/Z",
      "include_colab_link": true
    },
    "kernelspec": {
      "name": "python3",
      "display_name": "Python 3"
    },
    "language_info": {
      "name": "python"
    }
  },
  "cells": [
    {
      "cell_type": "markdown",
      "metadata": {
        "id": "view-in-github",
        "colab_type": "text"
      },
      "source": [
        "<a href=\"https://colab.research.google.com/github/Annbridget/Ann-checklist/blob/main/Bank_Account.ipynb\" target=\"_parent\"><img src=\"https://colab.research.google.com/assets/colab-badge.svg\" alt=\"Open In Colab\"/></a>"
      ]
    },
    {
      "cell_type": "code",
      "execution_count": null,
      "metadata": {
        "id": "UgVIPZTlJI79"
      },
      "outputs": [],
      "source": [
        "#Define the Account class and its attributes as specified above.\n",
        "#Define the deposit() method. It should take in one argument, the amount to be deposited, and add it to the account balance.\n",
        "#Define the withdraw() method. It should take in one argument, the amount to be withdrawn, and subtract it from the account balance.\n",
        "#The method should only execute the withdrawal if the account balance is greater than or equal to the amount to be withdrawn.\n",
        "#Define the check_balance() method. It should return the current account balance.\n",
        "#Create an instance of the Account class, and assign it to a variable called \"my_account\".\n",
        "#Use the methods of the class to deposit and withdraw money from the account, and check the account balance.\n",
        "#Test the program by creating multiple instances of the class and performing different transactions on them.\n",
        "\n",
        "# bank_account.py\n",
        "\n",
        "class Account:\n",
        "  def __init__(self, name,number,balance = 0.0):\n",
        "    self.name=name\n",
        "    self.number=number\n",
        "    self.balance=balance\n",
        "\n",
        "  def deposit(self,amount):\n",
        "    if amount>0:\n",
        "      self.balance+=amount\n",
        "    return self.balance\n",
        "\n",
        "  def withdraw(self,amount):\n",
        "    if amount > 0 and amount <= self.balance:\n",
        "      self.balance-=amount\n",
        "      return self.balance\n",
        "    else:\n",
        "      return \"Insufficient funds\"\n",
        "\n",
        "  def check_balance(self):\n",
        "    return self.balance\n",
        "\n"
      ]
    },
    {
      "cell_type": "code",
      "source": [
        "# main.py from bank_account import Account  # Import the Account class\n",
        "\n",
        "# create an instance of account class\n",
        "my_account= Account(\"John Doe\",\"123456789\",1000.00)\n",
        "\n",
        "    #deposit\n",
        "my_account.deposit(500.00)\n",
        "print(\"account deposited\")\n",
        "\n",
        "    #withdraw\n",
        "my_account.withdraw(200.00)\n",
        "print(\"account withdrawn\")\n",
        "\n",
        "    #check balance\n",
        "print(\"current balance:\",my_account.check_balance())\n",
        "\n",
        "\n",
        "\n"
      ],
      "metadata": {
        "colab": {
          "base_uri": "https://localhost:8080/"
        },
        "id": "4N6qwERy10p1",
        "outputId": "d20b74dd-c41e-48eb-a1cb-61f3a172cc67"
      },
      "execution_count": null,
      "outputs": [
        {
          "output_type": "stream",
          "name": "stdout",
          "text": [
            "account deposited\n",
            "account withdrawn\n",
            "current balance: 1300.0\n"
          ]
        }
      ]
    },
    {
      "cell_type": "code",
      "source": [
        "my_account= Account(\"John Doe\",\"123456789\",1300.00)\n",
        "\n",
        "    #deposit\n",
        "my_account.deposit(240.00)\n",
        "print(\"account deposited\")\n",
        "\n",
        "    #withdraw\n",
        "my_account.withdraw(175.00)\n",
        "print(\"account withdrawn\")\n",
        "\n",
        "    #check balance\n",
        "print(\"current balance:\",my_account.check_balance())\n",
        "\n",
        "\n",
        "\n"
      ],
      "metadata": {
        "colab": {
          "base_uri": "https://localhost:8080/"
        },
        "id": "xdRUmgPv3e0_",
        "outputId": "986d0129-2afa-4695-dd12-2b474744f9b3"
      },
      "execution_count": null,
      "outputs": [
        {
          "output_type": "stream",
          "name": "stdout",
          "text": [
            "account deposited\n",
            "account withdrawn\n",
            "current balance: 1365.0\n"
          ]
        }
      ]
    }
  ]
}