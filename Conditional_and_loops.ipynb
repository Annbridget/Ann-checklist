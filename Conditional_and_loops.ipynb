{
  "cells": [
    {
      "cell_type": "markdown",
      "metadata": {
        "id": "view-in-github",
        "colab_type": "text"
      },
      "source": [
        "<a href=\"https://colab.research.google.com/github/Annbridget/Ann-checklist/blob/main/Conditional_and_loops.ipynb\" target=\"_parent\"><img src=\"https://colab.research.google.com/assets/colab-badge.svg\" alt=\"Open In Colab\"/></a>"
      ]
    },
    {
      "cell_type": "code",
      "execution_count": null,
      "id": "ab20bfcf",
      "metadata": {
        "id": "ab20bfcf",
        "outputId": "8c52f1fe-be5b-4334-8608-cd62a3f3898d"
      },
      "outputs": [
        {
          "name": "stdout",
          "output_type": "stream",
          "text": [
            "Enter the number105\n",
            "greater than hunderd\n"
          ]
        }
      ],
      "source": [
        "# if statement\n",
        "\n",
        "val = input(\"Enter the number\")\n",
        "#value inputted using input() function is in string data type. so, we need typecasting\n",
        "value_float = float(val)\n",
        "if(value_float > 100):\n",
        "    print(\"greater than hunderd\")"
      ]
    },
    {
      "cell_type": "code",
      "execution_count": null,
      "id": "63b332ed",
      "metadata": {
        "id": "63b332ed",
        "outputId": "21230922-3ca2-44de-949e-ed8f11bfaea0"
      },
      "outputs": [
        {
          "name": "stdout",
          "output_type": "stream",
          "text": [
            "Enter the no2\n",
            "even\n"
          ]
        }
      ],
      "source": [
        "value = int(input(\"Enter the no\"))\n",
        "if(value % 2 == 0):\n",
        "    print(\"even\")\n",
        "else:\n",
        "    print(\"odd\")"
      ]
    },
    {
      "cell_type": "code",
      "execution_count": null,
      "id": "3750995c",
      "metadata": {
        "id": "3750995c",
        "outputId": "5753cfa1-2680-4794-9e9b-3eda0351351f"
      },
      "outputs": [
        {
          "name": "stdout",
          "output_type": "stream",
          "text": [
            "Enter your age: 22\n",
            "Eligible to vote\n"
          ]
        }
      ],
      "source": [
        "# Age form\n",
        "age = float(input(\"Enter your age: \"))\n",
        "if(age<18):\n",
        "    print(\"You are not eligible to vote\")\n",
        "else:\n",
        "    print(\"Eligible to vote\")"
      ]
    },
    {
      "cell_type": "code",
      "execution_count": null,
      "id": "ff0363d7",
      "metadata": {
        "id": "ff0363d7",
        "outputId": "f0a1634c-2a9a-48b5-e1f1-43e5e2f7bfbc"
      },
      "outputs": [
        {
          "name": "stdout",
          "output_type": "stream",
          "text": [
            "Enter your age: 65\n",
            "Senior Citizen\n"
          ]
        }
      ],
      "source": [
        "# if-elif-else\n",
        "# Age form\n",
        "age = float(input(\"Enter your age: \"))\n",
        "if(age<18):\n",
        "    print(\"Minor Age\")\n",
        "elif(age >= 18 and age<= 45):\n",
        "    print(\"Mid-Age\")\n",
        "elif(age>45 and age<= 60):\n",
        "    print(\"Senior Mid Age\")\n",
        "else:\n",
        "    print(\"Senior Citizen\")"
      ]
    },
    {
      "cell_type": "code",
      "execution_count": null,
      "id": "93af7275",
      "metadata": {
        "id": "93af7275",
        "outputId": "e5761a8b-dc22-4602-d4c0-51ef43ab31d7"
      },
      "outputs": [
        {
          "name": "stdout",
          "output_type": "stream",
          "text": [
            "Enter your age: 15\n",
            "You are in college, Minor age\n"
          ]
        }
      ],
      "source": [
        "# nested if else\n",
        "age = float(input(\"Enter your age: \"))\n",
        "if(age<18):\n",
        "    if(age<15):\n",
        "        print(\"You are in school, Minor age\")\n",
        "    else:\n",
        "        print(\"You are in college, Minor age\")\n",
        "elif(age >= 18 and age<= 45):\n",
        "    print(\"Mid-Age\")\n",
        "elif(age>45 and age<= 60):\n",
        "    print(\"Senior Mid Age\")\n",
        "else:\n",
        "    print(\"Senior Citizen\")"
      ]
    },
    {
      "cell_type": "code",
      "execution_count": null,
      "id": "ca07424a",
      "metadata": {
        "id": "ca07424a"
      },
      "outputs": [],
      "source": [
        "# Loop statements"
      ]
    },
    {
      "cell_type": "code",
      "execution_count": null,
      "id": "3ee62f09",
      "metadata": {
        "id": "3ee62f09",
        "outputId": "6c5f0f9b-a50d-4a18-eaf5-02a64e23a05d"
      },
      "outputs": [
        {
          "name": "stdout",
          "output_type": "stream",
          "text": [
            "1\n",
            "2\n",
            "3\n",
            "4\n",
            "5\n"
          ]
        }
      ],
      "source": [
        "#for loop\n",
        "lst = [1,2,3,4,5]\n",
        "for i in lst:\n",
        "    print (i)"
      ]
    },
    {
      "cell_type": "code",
      "execution_count": null,
      "id": "36a04a99",
      "metadata": {
        "id": "36a04a99",
        "outputId": "a716f2cd-f939-4d0d-c21f-cd47bc529b2f"
      },
      "outputs": [
        {
          "name": "stdout",
          "output_type": "stream",
          "text": [
            "1\n",
            "4\n",
            "9\n",
            "16\n",
            "25\n"
          ]
        }
      ],
      "source": [
        "lst = [1,2,3,4,5]\n",
        "for i in lst:\n",
        "    print (i*i)"
      ]
    },
    {
      "cell_type": "code",
      "execution_count": null,
      "id": "6fc44719",
      "metadata": {
        "id": "6fc44719",
        "outputId": "a3fc19a9-c70d-4ce9-e4ad-ab6742bd0f61"
      },
      "outputs": [
        {
          "name": "stdout",
          "output_type": "stream",
          "text": [
            "55\n"
          ]
        }
      ],
      "source": [
        "# find the sum of all the elements in the list\n",
        "list = [1,2,3,4,5,6,7,8,9,10]\n",
        "sum1 = 0\n",
        "for i in list:\n",
        "    sum1+=i\n",
        "print(sum1)"
      ]
    },
    {
      "cell_type": "code",
      "execution_count": null,
      "id": "f1042956",
      "metadata": {
        "id": "f1042956",
        "outputId": "f800cbc1-d288-424f-feb9-21194606038f"
      },
      "outputs": [
        {
          "name": "stdout",
          "output_type": "stream",
          "text": [
            "Even sum is 30 and odd sum is 25\n"
          ]
        }
      ],
      "source": [
        "# find the sum of even and odd number\n",
        "list1 = [1,2,3,4,5,6,7,8,9,10]\n",
        "even_sum = 0\n",
        "odd_sum = 0\n",
        "for i in list1:\n",
        "    if(i%2 == 0):\n",
        "        even_sum += i\n",
        "    else:\n",
        "        odd_sum += i\n",
        "print(\"Even sum is {} and odd sum is {}\". format(even_sum, odd_sum))"
      ]
    },
    {
      "cell_type": "code",
      "execution_count": null,
      "id": "82d016ab",
      "metadata": {
        "id": "82d016ab",
        "outputId": "733105da-3f92-4ae5-ba00-49ecfa39ebe9"
      },
      "outputs": [
        {
          "name": "stdout",
          "output_type": "stream",
          "text": [
            "0\n",
            "1\n",
            "2\n",
            "3\n",
            "4\n",
            "5\n",
            "6\n",
            "7\n",
            "8\n",
            "9\n",
            "10\n"
          ]
        }
      ],
      "source": [
        "# while loops\n",
        "i = 0\n",
        "while(i<=10):\n",
        "    print(i)\n",
        "    i = i+1"
      ]
    },
    {
      "cell_type": "code",
      "execution_count": null,
      "id": "95e01c72",
      "metadata": {
        "id": "95e01c72",
        "outputId": "5ba80628-1880-48f7-e8ac-6704e297bb55"
      },
      "outputs": [
        {
          "name": "stdout",
          "output_type": "stream",
          "text": [
            "1\n",
            "2\n",
            "3\n",
            "4\n"
          ]
        }
      ],
      "source": [
        "# break\n",
        "x = 1\n",
        "while(x<7):\n",
        "    print(x)\n",
        "    if(x == 4):\n",
        "        break\n",
        "    x=x+1"
      ]
    },
    {
      "cell_type": "code",
      "execution_count": null,
      "id": "167f1b8f",
      "metadata": {
        "id": "167f1b8f",
        "outputId": "de0a3f9d-bd15-46bc-a102-11cb95a07f74"
      },
      "outputs": [
        {
          "name": "stdout",
          "output_type": "stream",
          "text": [
            "1\n",
            "2\n",
            "3\n",
            "5\n",
            "6\n",
            "7\n"
          ]
        }
      ],
      "source": [
        "# continue\n",
        "x = 0\n",
        "while x<7:\n",
        "    x = x+1\n",
        "    if x==4:\n",
        "        continue\n",
        "    print(x)"
      ]
    },
    {
      "cell_type": "code",
      "execution_count": null,
      "id": "4dec10c6",
      "metadata": {
        "id": "4dec10c6",
        "outputId": "efc31d6c-28a8-4c9f-d21d-93f59cbc5979"
      },
      "outputs": [
        {
          "name": "stdout",
          "output_type": "stream",
          "text": [
            "2\n",
            "4\n",
            "6\n",
            "8\n",
            "10\n",
            "12\n",
            "14\n",
            "16\n",
            "18\n",
            "20\n",
            "22\n",
            "24\n",
            "26\n",
            "28\n",
            "30\n",
            "32\n",
            "34\n",
            "36\n",
            "38\n",
            "40\n",
            "42\n",
            "44\n",
            "46\n",
            "48\n"
          ]
        }
      ],
      "source": [
        "# printing even numbers\n",
        "for i in range(1,50):\n",
        "    if(i % 2 == 0):\n",
        "        print(i)"
      ]
    },
    {
      "cell_type": "code",
      "execution_count": null,
      "id": "ed3130df",
      "metadata": {
        "id": "ed3130df",
        "outputId": "138540cb-30e8-4d63-b500-ce9e5d3ceda5"
      },
      "outputs": [
        {
          "name": "stdout",
          "output_type": "stream",
          "text": [
            "Enter the number5\n",
            "120\n"
          ]
        }
      ],
      "source": [
        "# factorial calculation\n",
        "fact = 1\n",
        "n = int(input(\"Enter the number\"))\n",
        "i = n\n",
        "while(i != 0):\n",
        "    fact = fact*i\n",
        "    i = i-1\n",
        "print(fact)"
      ]
    },
    {
      "cell_type": "code",
      "execution_count": null,
      "id": "b85e38d0",
      "metadata": {
        "id": "b85e38d0",
        "outputId": "dfea7863-e0ba-4d83-bdee-a2d6c38d9f1d"
      },
      "outputs": [
        {
          "name": "stdout",
          "output_type": "stream",
          "text": [
            "Enter the number5\n",
            "Sum is 15\n"
          ]
        }
      ],
      "source": [
        "#Python program that asks the user for a positive integer and then calculates the sum of all numbers from 1 to that integer using a for loop.\n",
        "num = int(input(\"Enter the number\"))\n",
        "sum1 = 0\n",
        "for i in range(1, num+1):\n",
        "    sum1 += i\n",
        "print(\"Sum is {}\".format(sum1))"
      ]
    },
    {
      "cell_type": "code",
      "execution_count": null,
      "id": "7d1c2fb1",
      "metadata": {
        "id": "7d1c2fb1",
        "outputId": "c3a8d226-c28d-4ee9-9d61-0f49610fd3b6"
      },
      "outputs": [
        {
          "name": "stdout",
          "output_type": "stream",
          "text": [
            "How many terms of fibonacci series you want to print?10\n",
            "0\n",
            "1\n",
            "1\n",
            "2\n",
            "3\n",
            "5\n",
            "8\n",
            "13\n",
            "21\n",
            "34\n",
            "55\n"
          ]
        }
      ],
      "source": [
        "# Fibanacci sequence\n",
        "n = int(input(\"How many terms of fibonacci series you want to print?\"))\n",
        "a=0\n",
        "b=1\n",
        "print(a)\n",
        "print(b)\n",
        "for i in range(n-1):\n",
        "    c= a+b\n",
        "    print(c)\n",
        "    a=b\n",
        "    b = c\n",
        "\n"
      ]
    },
    {
      "cell_type": "code",
      "execution_count": null,
      "id": "7b43cbaf",
      "metadata": {
        "id": "7b43cbaf",
        "outputId": "6123d4d8-4832-4484-fd17-b27830a4cdcd"
      },
      "outputs": [
        {
          "name": "stdout",
          "output_type": "stream",
          "text": [
            "Enter the number: 12\n",
            "12 * 1 = 12\n",
            "12 * 2 = 24\n",
            "12 * 3 = 36\n",
            "12 * 4 = 48\n",
            "12 * 5 = 60\n",
            "12 * 6 = 72\n",
            "12 * 7 = 84\n",
            "12 * 8 = 96\n",
            "12 * 9 = 108\n",
            "12 * 10 = 120\n"
          ]
        }
      ],
      "source": [
        "#  Python program to print the multiplication table of a given number using a nested for loop.\n",
        "num = int(input(\"Enter the number: \"))\n",
        "for i in range(10):\n",
        "    print(\"{} * {} = {}\".format(num,i+1, num*(i+1)))"
      ]
    },
    {
      "cell_type": "code",
      "execution_count": null,
      "id": "ff23292b",
      "metadata": {
        "id": "ff23292b",
        "outputId": "be060930-4e51-4b38-c72b-42a91d6472f6"
      },
      "outputs": [
        {
          "name": "stdout",
          "output_type": "stream",
          "text": [
            "\n",
            "\n",
            "* \n",
            "\n",
            "* * \n",
            "\n",
            "* * * \n",
            "\n",
            "* * * * \n",
            "\n",
            "* * * * * \n",
            "\n"
          ]
        }
      ],
      "source": [
        "# pattern printing\n",
        "for i in range(6):\n",
        "    for j in range(i):\n",
        "        print(\"*\", end=\" \")\n",
        "    print(\"\\n\")\n"
      ]
    },
    {
      "cell_type": "code",
      "execution_count": null,
      "id": "b94b334e",
      "metadata": {
        "id": "b94b334e",
        "outputId": "c5ca9e5c-2917-4a66-81ca-dcc7d9b2cba5"
      },
      "outputs": [
        {
          "name": "stdout",
          "output_type": "stream",
          "text": [
            "* * * * * \n",
            "\n",
            "* * * * \n",
            "\n",
            "* * * \n",
            "\n",
            "* * \n",
            "\n",
            "* \n",
            "\n"
          ]
        }
      ],
      "source": [
        "for i in range(5,0,-1):\n",
        "    for j in range(i):\n",
        "        print(\"*\", end=\" \")\n",
        "    print(\"\\n\")"
      ]
    },
    {
      "cell_type": "code",
      "execution_count": null,
      "id": "e2a32ea0",
      "metadata": {
        "id": "e2a32ea0",
        "outputId": "aaeb902f-fbb7-4428-baff-3acfbfa40d42"
      },
      "outputs": [
        {
          "name": "stdout",
          "output_type": "stream",
          "text": [
            "    *\n",
            "   **\n",
            "  ***\n",
            " ****\n",
            "*****\n"
          ]
        }
      ],
      "source": [
        "for i in range(1, 6):\n",
        "    print(\" \"*(5-i)+ \"*\"*i)"
      ]
    },
    {
      "cell_type": "code",
      "execution_count": null,
      "id": "d3902137",
      "metadata": {
        "id": "d3902137"
      },
      "outputs": [],
      "source": []
    }
  ],
  "metadata": {
    "kernelspec": {
      "display_name": "Python 3 (ipykernel)",
      "language": "python",
      "name": "python3"
    },
    "language_info": {
      "codemirror_mode": {
        "name": "ipython",
        "version": 3
      },
      "file_extension": ".py",
      "mimetype": "text/x-python",
      "name": "python",
      "nbconvert_exporter": "python",
      "pygments_lexer": "ipython3",
      "version": "3.10.9"
    },
    "colab": {
      "provenance": [],
      "include_colab_link": true
    }
  },
  "nbformat": 4,
  "nbformat_minor": 5
}