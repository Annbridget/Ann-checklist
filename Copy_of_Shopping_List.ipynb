{
  "nbformat": 4,
  "nbformat_minor": 0,
  "metadata": {
    "colab": {
      "provenance": [],
      "authorship_tag": "ABX9TyO1eOkuyqmV6Vjz//vpOrQp",
      "include_colab_link": true
    },
    "kernelspec": {
      "name": "python3",
      "display_name": "Python 3"
    },
    "language_info": {
      "name": "python"
    }
  },
  "cells": [
    {
      "cell_type": "markdown",
      "metadata": {
        "id": "view-in-github",
        "colab_type": "text"
      },
      "source": [
        "<a href=\"https://colab.research.google.com/github/Annbridget/Ann-checklist/blob/main/Copy_of_Shopping_List.ipynb\" target=\"_parent\"><img src=\"https://colab.research.google.com/assets/colab-badge.svg\" alt=\"Open In Colab\"/></a>"
      ]
    },
    {
      "cell_type": "code",
      "execution_count": null,
      "metadata": {
        "id": "D8hM6EZXOEpZ"
      },
      "outputs": [],
      "source": [
        "#Statement:\n",
        "\n",
        "#Create a list to store the shopping items\n",
        "#Use a while loop to create a menu of options for the user to add, remove, or view items from the list\n",
        "#Use a for loop to iterate through the list of items and display them to the user\n",
        "#Use the range() function to limit the number of items that can be added to the list\n",
        "#Use the list, tuple, set, and dictionary data structures to store and manipulate the shopping items\n"
      ]
    },
    {
      "cell_type": "code",
      "source": [
        "#Create a list named 'shopping_list' to store the items.\n",
        "shopping_list = []\n",
        "max_items = 5"
      ],
      "metadata": {
        "id": "f-kDpvCtEPUt"
      },
      "execution_count": null,
      "outputs": []
    },
    {
      "cell_type": "code",
      "source": [
        "while True:\n",
        "    print(\"\\nShopping List Menu:\")\n",
        "    print(\"1. Add item\")\n",
        "    print(\"2. Remove item\")\n",
        "    print(\"3. View shopping list\")\n",
        "    print(\"4. Exit\")\n",
        "\n",
        "    choice = input(\"Enter your choice (1-4): \")\n",
        "\n",
        "    if choice == \"1\":\n",
        "        if len(shopping_list) < max_items:\n",
        "            item = input(\"Enter the item to add: \")\n",
        "            shopping_list.append(item)\n",
        "            print(f\"{item} has been added to the shopping list.\")\n",
        "        else:\n",
        "            print(\"The shopping list is full! Cannot add more items.\")\n",
        "\n",
        "    elif choice == \"2\":\n",
        "        item = input(\"Enter the item to remove: \")\n",
        "        if item in shopping_list:\n",
        "            shopping_list.remove(item)\n",
        "            print(f\"{item} has been removed from the shopping list.\")\n",
        "        else:\n",
        "            print(f\"{item} is not in the shopping list.\")\n",
        "\n",
        "    elif choice == \"3\":\n",
        "        print(\"\\nShopping List:\")\n",
        "        if shopping_list:\n",
        "            for item in shopping_list:\n",
        "                print(f\"- {item}\")\n",
        "        else:\n",
        "            print(\"Your shopping list is empty.\")\n",
        "\n",
        "    elif choice == \"4\":\n",
        "        print(\"Goodbye!\")\n",
        "        break\n",
        "\n",
        "    else:\n",
        "        print(\"Invalid choice. Please try again.\")"
      ],
      "metadata": {
        "colab": {
          "base_uri": "https://localhost:8080/"
        },
        "id": "AnSsCXUrOVsp",
        "outputId": "9c5df899-fc89-4c76-ed79-f07a95264a28"
      },
      "execution_count": null,
      "outputs": [
        {
          "output_type": "stream",
          "name": "stdout",
          "text": [
            "\n",
            "Shopping List Menu:\n",
            "1. Add item\n",
            "2. Remove item\n",
            "3. View shopping list\n",
            "4. Exit\n",
            "Enter your choice (1-4): 1\n",
            "Enter the item to add: 2\n",
            "2 has been added to the shopping list.\n",
            "\n",
            "Shopping List Menu:\n",
            "1. Add item\n",
            "2. Remove item\n",
            "3. View shopping list\n",
            "4. Exit\n",
            "Enter your choice (1-4): 3\n",
            "\n",
            "Shopping List:\n",
            "- 2\n",
            "\n",
            "Shopping List Menu:\n",
            "1. Add item\n",
            "2. Remove item\n",
            "3. View shopping list\n",
            "4. Exit\n",
            "Enter your choice (1-4): 4\n",
            "Goodbye!\n"
          ]
        }
      ]
    }
  ]
}